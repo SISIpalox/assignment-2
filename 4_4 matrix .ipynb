{
 "cells": [
  {
   "cell_type": "code",
   "execution_count": 5,
   "id": "f0a8d41c-5244-43ee-a01c-12e44032416e",
   "metadata": {
    "tags": []
   },
   "outputs": [
    {
     "name": "stdout",
     "output_type": "stream",
     "text": [
      "12870\n"
     ]
    }
   ],
   "source": [
    "from itertools import combinations\n",
    "\n",
    "def count_matrices_4x4():\n",
    "    # Generate all possible positions in a 4x4 matrix\n",
    "    positions = [(i, j) for i in range(4) for j in range(4)]\n",
    "    \n",
    "\n",
    "    unique_combinations = combinations(positions, 8)\n",
    "    \n",
    "    # Count the number of unique combinations\n",
    "    combination_count = sum(1 for _ in unique_combinations)\n",
    "    \n",
    "    return combination_count\n",
    "\n",
    "\n",
    "number_of_matrices = count_matrices_4x4()\n",
    "print(number_of_matrices)\n"
   ]
  },
  {
   "cell_type": "code",
   "execution_count": 6,
   "id": "8eeaa793-ab87-459a-b710-f507c45e14e9",
   "metadata": {
    "tags": []
   },
   "outputs": [
    {
     "name": "stdout",
     "output_type": "stream",
     "text": [
      "7542\n"
     ]
    }
   ],
   "source": [
    "from itertools import combinations\n",
    "import numpy as np\n",
    "\n",
    "def count_zero_determinant_4x4_matrices():\n",
    "    positions = [(i, j) for i in range(4) for j in range(4)]\n",
    "    one_positions_combinations = list(combinations(positions, 8))\n",
    "    zero_determinant_count = 0\n",
    "\n",
    "    for one_positions in one_positions_combinations:\n",
    "        matrix = np.zeros((4, 4))\n",
    "        for pos in one_positions:\n",
    "            matrix[pos] = 1\n",
    "        if np.linalg.det(matrix) == 0:\n",
    "            zero_determinant_count += 1\n",
    "\n",
    "    return zero_determinant_count\n",
    "\n",
    "\n",
    "zero_determinant_count = count_zero_determinant_4x4_matrices()\n",
    "print(zero_determinant_count)\n"
   ]
  },
  {
   "cell_type": "code",
   "execution_count": null,
   "id": "69ac742c-93c2-4698-8d05-5e809daaad3b",
   "metadata": {},
   "outputs": [],
   "source": []
  }
 ],
 "metadata": {
  "kernelspec": {
   "display_name": "Python 3 (ipykernel)",
   "language": "python",
   "name": "python3"
  },
  "language_info": {
   "codemirror_mode": {
    "name": "ipython",
    "version": 3
   },
   "file_extension": ".py",
   "mimetype": "text/x-python",
   "name": "python",
   "nbconvert_exporter": "python",
   "pygments_lexer": "ipython3",
   "version": "3.11.5"
  }
 },
 "nbformat": 4,
 "nbformat_minor": 5
}
