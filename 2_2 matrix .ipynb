{
 "cells": [
  {
   "cell_type": "code",
   "execution_count": 6,
   "id": "e10442cf-9d45-4701-9297-073e34435bf9",
   "metadata": {
    "tags": []
   },
   "outputs": [
    {
     "name": "stdout",
     "output_type": "stream",
     "text": [
      "Matrix:\n",
      " [[0 1]\n",
      " [0 1]]\n",
      "Determinant: 0.0\n",
      "---\n",
      "Matrix:\n",
      " [[1 1]\n",
      " [0 0]]\n",
      "Determinant: 0.0\n",
      "---\n",
      "Matrix:\n",
      " [[0 1]\n",
      " [1 0]]\n",
      "Determinant: -1.0\n",
      "---\n",
      "Matrix:\n",
      " [[1 0]\n",
      " [1 0]]\n",
      "Determinant: 0.0\n",
      "---\n",
      "Matrix:\n",
      " [[1 0]\n",
      " [0 1]]\n",
      "Determinant: 1.0\n",
      "---\n",
      "Matrix:\n",
      " [[0 0]\n",
      " [1 1]]\n",
      "Determinant: 0.0\n",
      "---\n"
     ]
    }
   ],
   "source": [
    "import numpy as np\n",
    "from itertools import permutations\n",
    "from numpy.linalg import det\n",
    "\n",
    "def generate_matrices_and_determinants():\n",
    "    # Generate all permutations of the array with two 0s and two 1s\n",
    "    all_permutations = set(permutations([0, 0, 1, 1]))\n",
    "\n",
    "    # Convert each permutation into a 2x2 matrix and calculate its determinant\n",
    "    for perm in all_permutations:\n",
    "        matrix = np.array(perm).reshape(2, 2)\n",
    "        determinant = det(matrix)\n",
    "        print(\"Matrix:\\n\", matrix)\n",
    "        print(\"Determinant:\", determinant)\n",
    "        print(\"---\")\n",
    "\n",
    "generate_matrices_and_determinants()\n"
   ]
  },
  {
   "cell_type": "code",
   "execution_count": null,
   "id": "04057db6-0c26-4aaa-9f25-2dda9019dc57",
   "metadata": {},
   "outputs": [],
   "source": []
  },
  {
   "cell_type": "code",
   "execution_count": null,
   "id": "29454df7-9ee2-4e18-a9be-3b1fc809cc90",
   "metadata": {},
   "outputs": [],
   "source": []
  }
 ],
 "metadata": {
  "kernelspec": {
   "display_name": "Python 3 (ipykernel)",
   "language": "python",
   "name": "python3"
  },
  "language_info": {
   "codemirror_mode": {
    "name": "ipython",
    "version": 3
   },
   "file_extension": ".py",
   "mimetype": "text/x-python",
   "name": "python",
   "nbconvert_exporter": "python",
   "pygments_lexer": "ipython3",
   "version": "3.11.5"
  }
 },
 "nbformat": 4,
 "nbformat_minor": 5
}
